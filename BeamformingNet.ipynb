{
 "cells": [
  {
   "cell_type": "code",
   "execution_count": null,
   "metadata": {
    "ExecuteTime": {
     "start_time": "2020-10-30T02:23:22.247Z"
    },
    "code_folding": [],
    "scrolled": true
   },
   "outputs": [
    {
     "name": "stderr",
     "output_type": "stream",
     "text": [
      "Setting up a new session...\n",
      "Without the incoming socket you cannot receive events from the server or register event handlers to your Visdom client.\n"
     ]
    }
   ],
   "source": [
    "###################the graph of computaiton###################\n",
    "# input -> conv2d -> BatchNorm2d -> relu -> conv2d -> BatchNorm2d -> relu\n",
    "#       -> view -> linear -> relu -> linear \n",
    "#       -> MSELoss\n",
    "#       -> loss\n",
    "\n",
    "import torch \n",
    "import visdom\n",
    "from torch.utils.data import Dataset\n",
    "from torch.utils.data import DataLoader\n",
    "import torch.nn.functional as F\n",
    "import torch.optim as optim\n",
    "import numpy as np\n",
    "\n",
    "# prepare the visdom envirement\n",
    "viz = visdom.Visdom(env='beamforming', server='10.15.89.41', port=38720, use_incoming_socket=False)\n",
    "\n",
    "# 1. Prepare Dataset\n",
    "G = 3\n",
    "N = 50\n",
    "K = 5\n",
    "batchSize = 200\n",
    "\n",
    "\n",
    "class BeamformingDataset(Dataset):\n",
    "    def __init__(self, filepath):\n",
    "        xy = np.loadtxt(filepath, delimiter = ',', dtype = np.float32)\n",
    "        self.len = xy.shape[0]\n",
    "        self.x_data = torch.from_numpy(xy[:, :-2*G*K])\n",
    "        self.y_data = torch.from_numpy(xy[:, 2*N*G*K:])\n",
    "        \n",
    "    def __getitem__(self, index):\n",
    "        return self.x_data[index], self.y_data[index]\n",
    "    \n",
    "    def __len__(self):\n",
    "        return self.len\n",
    "\n",
    "## Load the trainingSet and testingSet\n",
    "trainingSet = BeamformingDataset('../trainingData.csv.gz')\n",
    "testingSet = BeamformingDataset('../testingData.csv.gz')\n",
    "train_loader = DataLoader(dataset = trainingSet, batch_size=batchSize, shuffle=True, num_workers=8)\n",
    "test_loader = DataLoader(dataset = testingSet, batch_size=batchSize, shuffle=False, num_workers=8)\n",
    "\n",
    "# 2. Design Model\n",
    "class BeamformingNet(torch.nn.Module):\n",
    "    def __init__(self):\n",
    "        super(BeamformingNet, self).__init__()\n",
    "        self.conv1 = torch.nn.Conv2d(1, 8, kernel_size = 3, padding = 1)\n",
    "        # self.conv1 = torch.nn.DataParallel(self.conv1)\n",
    "        self.conv2 = torch.nn.Conv2d(8, 8, kernel_size = 3, padding = 1)\n",
    "        # self.conv2 = torch.nn.DataParallel(self.conv2)\n",
    "        \n",
    "        self.norm = torch.nn.BatchNorm2d(8, eps = 1e-03, momentum = 0.99)\n",
    "    \n",
    "        self.fc = torch.nn.Linear(12000, 2*G*K)\n",
    "        \n",
    "    def forward(self, x):\n",
    "        BATCH_SIZE = x.size(0)\n",
    "        \n",
    "        x = x.view(BATCH_SIZE, 1, 1, -1)\n",
    "        x = F.relu(self.norm(self.conv1(x)))\n",
    "        x = F.relu(self.norm(self.conv2(x)))\n",
    "        x = x.view(BATCH_SIZE, -1) #flatten\n",
    "        x = self.fc(x)\n",
    "        # x = F.sigmoid(x)\n",
    "        return x\n",
    "    \n",
    "model = BeamformingNet()\n",
    "device = torch.device(\"cuda:0\" if torch.cuda.is_available() else \"cpu\")\n",
    "model.to(device)\n",
    "\n",
    "# 3. Construct Loss and Optimizer\n",
    "criterion = torch.nn.MSELoss()\n",
    "optimizer = optim.Adam(model.parameters(), lr = 1e-3)\n",
    "\n",
    "# 4. Train and Test\n",
    "def train(epoch):\n",
    "    running_loss = 0.0\n",
    "    train_loss = 0.0\n",
    "    for batch_idx, data in enumerate(train_loader, 0):\n",
    "        inputs, target = data\n",
    "        inputs, target = inputs.to(device), target.to(device)\n",
    "        optimizer.zero_grad()\n",
    "        \n",
    "        # forward + backward + update\n",
    "        outputs = model(inputs)\n",
    "        loss = criterion(outputs, target)\n",
    "        loss.backward()\n",
    "        optimizer.step()\n",
    "        \n",
    "        running_loss += loss.item()\n",
    "        train_loss += loss.item()\n",
    "        if batch_idx % 2 == 1:\n",
    "            print('[%d, %5d] loss: %.3f' % (epoch + 1, batch_idx + 1, running_loss / 2))\n",
    "            running_loss = 0.0\n",
    "    viz.line([train_loss], [epoch], win='train_loss', update='append')\n",
    "            \n",
    "def test():\n",
    "    with torch.no_grad():\n",
    "        running_loss = 0.0\n",
    "        for data in test_loader:\n",
    "            inputs, target = data\n",
    "            inputs, target = inputs.to(device), target.to(device)\n",
    "            \n",
    "            # compute the loss\n",
    "            outputs = model(inputs)\n",
    "            loss = criterion(outputs, target)\n",
    "            running_loss += loss.item()\n",
    "            \n",
    "        print('Running loss on test set: %.3f' % running_loss)\n",
    "        \n",
    "viz.line([0.], [0], win='train_loss', opts=dict(title='train_loss'))\n",
    "for epoch in range(20):\n",
    "    train(epoch)\n",
    "    test()\n",
    "    \n",
    "            "
   ]
  },
  {
   "cell_type": "code",
   "execution_count": 13,
   "metadata": {
    "ExecuteTime": {
     "end_time": "2020-10-28T02:20:31.372902Z",
     "start_time": "2020-10-28T02:18:47.560147Z"
    }
   },
   "outputs": [],
   "source": [
    "# Generate the dataset\n",
    "import numpy as np\n",
    "\n",
    "np.random.seed(0)\n",
    "\n",
    "G = 3\n",
    "N = 50\n",
    "K = 5\n",
    "trainingSample = 20000\n",
    "testingSample = 5000\n",
    "\n",
    "trainingInputs = np.random.randn(trainingSample, 2*N*G*K)\n",
    "testingInputs = np.random.randn(testingSample, 2*N*G*K)\n",
    "\n",
    "# outputs size: 2*G*k\n",
    "a = np.random.randn(2*N*G*K, 2*G*K)\n",
    "trainingOutputs = np.dot(trainingInputs, a)\n",
    "testingOutputs = np.dot(testingInputs, a)\n",
    "\n",
    "trainingData = np.hstack((trainingInputs, trainingOutputs))\n",
    "testingData = np.hstack((testingInputs, testingOutputs))\n",
    "\n",
    "np.savetxt('trainingData.csv.gz', trainingData, fmt='%5f', delimiter=',')\n",
    "np.savetxt('testingData.csv.gz', testingData, fmt='%5f', delimiter=',')"
   ]
  },
  {
   "cell_type": "code",
   "execution_count": 8,
   "metadata": {
    "ExecuteTime": {
     "end_time": "2020-10-28T07:49:50.290036Z",
     "start_time": "2020-10-28T07:49:50.230439Z"
    }
   },
   "outputs": [
    {
     "name": "stderr",
     "output_type": "stream",
     "text": [
      "Setting up a new session...\n",
      "Without the incoming socket you cannot receive events from the server or register event handlers to your Visdom client.\n"
     ]
    },
    {
     "data": {
      "text/plain": [
       "'mywin'"
      ]
     },
     "execution_count": 8,
     "metadata": {},
     "output_type": "execute_result"
    }
   ],
   "source": [
    "import torch \n",
    "import visdom\n",
    "import numpy as np\n",
    "\n",
    "vis = visdom.Visdom(env='test', server='10.15.89.41', port=38720, use_incoming_socket=False)\n",
    "\n",
    "##\n",
    "trace = dict(x=[1, 2, 3], y=[4, 5, 6], mode=\"markers+lines\", type='custom',\n",
    "             marker={'color': 'red', 'symbol': 104, 'size': \"10\"},\n",
    "             text=[\"one\", \"two\", \"three\"], name='1st Trace')\n",
    "layout = dict(title=\"First Plot\", xaxis={'title': 'x'}, yaxis={'title': 'y'})\n",
    "\n",
    "vis._send({'data': [trace], 'layout': layout, 'win': 'mywin'})"
   ]
  }
 ],
 "metadata": {
  "kernelspec": {
   "display_name": "Python 3",
   "language": "python",
   "name": "python3"
  },
  "language_info": {
   "codemirror_mode": {
    "name": "ipython",
    "version": 3
   },
   "file_extension": ".py",
   "mimetype": "text/x-python",
   "name": "python",
   "nbconvert_exporter": "python",
   "pygments_lexer": "ipython3",
   "version": "3.8.3"
  },
  "toc": {
   "base_numbering": 1,
   "nav_menu": {},
   "number_sections": true,
   "sideBar": true,
   "skip_h1_title": false,
   "title_cell": "Table of Contents",
   "title_sidebar": "Contents",
   "toc_cell": false,
   "toc_position": {},
   "toc_section_display": true,
   "toc_window_display": false
  },
  "varInspector": {
   "cols": {
    "lenName": 16,
    "lenType": 16,
    "lenVar": 40
   },
   "kernels_config": {
    "python": {
     "delete_cmd_postfix": "",
     "delete_cmd_prefix": "del ",
     "library": "var_list.py",
     "varRefreshCmd": "print(var_dic_list())"
    },
    "r": {
     "delete_cmd_postfix": ") ",
     "delete_cmd_prefix": "rm(",
     "library": "var_list.r",
     "varRefreshCmd": "cat(var_dic_list()) "
    }
   },
   "position": {
    "height": "755px",
    "left": "251px",
    "right": "20px",
    "top": "336px",
    "width": "600px"
   },
   "types_to_exclude": [
    "module",
    "function",
    "builtin_function_or_method",
    "instance",
    "_Feature"
   ],
   "window_display": false
  }
 },
 "nbformat": 4,
 "nbformat_minor": 4
}
